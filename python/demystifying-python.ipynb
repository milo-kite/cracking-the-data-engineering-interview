{
  "cells": [
    {
      "cell_type": "markdown",
      "metadata": {
        "id": "SIvRFzbl5hhW"
      },
      "source": [
        "# Welcome to your Python for Data Engineering Course\n",
        "\n",
        "In this course, we will cover essential Python concepts, including basic data types like integers, floats, strings, and booleans, as well as advanced data types such as lists, tuples, dictionaries, and sets. We’ll explore control flow with if statements, loops (for and while), and special keywords like break, continue, and pass. Additionally, we'll delve into functions to help you write reusable and organized code, laying a solid foundation for solving problems and building applications in Python."
      ]
    },
    {
      "cell_type": "markdown",
      "metadata": {
        "id": "MbVZwAvw-Qp0"
      },
      "source": [
        "## Data Types\n",
        "\n",
        "Let's learn about Python's basic data types: integers, floats, strings, and booleans, each serving a distinct role in representing numbers, text, and logical values."
      ]
    },
    {
      "cell_type": "markdown",
      "metadata": {
        "id": "NMvC7M5rsM9s"
      },
      "source": [
        "### Floats\n",
        "\n",
        "In this section, we will focus on floats, which are Python's data type for representing numbers with fractional parts, allowing for precise calculations involving decimal values."
      ]
    },
    {
      "cell_type": "code",
      "execution_count": null,
      "metadata": {
        "colab": {
          "base_uri": "https://localhost:8080/"
        },
        "id": "EueInrY_mvtL",
        "outputId": "2af33949-3a31-4d05-f620-b43ab1f7d28a"
      },
      "outputs": [],
      "source": [
        "# Set the value of this float variable to 98.6\n",
        "temperature = None\n",
        "\n",
        "# Testing\n",
        "correct_value = 98.6\n",
        "assert temperature == correct_value, f\"The value should be {correct_value}, but got {temperature}\"\n",
        "print('Your answer is correct')"
      ]
    },
    {
      "cell_type": "code",
      "execution_count": null,
      "metadata": {
        "id": "RGK4jE2Mmw6p"
      },
      "outputs": [],
      "source": [
        "# Set the value of this float variable to 3.14\n",
        "pi = None\n",
        "\n",
        "# Testing\n",
        "correct_value = 3.14\n",
        "assert pi == correct_value, f\"The value should be {correct_value}, but got {pi}\"\n",
        "print('Your answer is correct')"
      ]
    },
    {
      "cell_type": "code",
      "execution_count": null,
      "metadata": {
        "colab": {
          "base_uri": "https://localhost:8080/"
        },
        "id": "OLdr9aMusUH_",
        "outputId": "cc086381-fffb-4a29-8073-c59a77f17243"
      },
      "outputs": [],
      "source": [
        "# Change the value of this number so the sum is 12.5\n",
        "a = 7.5\n",
        "b = 5.0\n",
        "sum = a + b\n",
        "\n",
        "# Testing\n",
        "correct_sum = 12.5\n",
        "assert sum == correct_sum, f\"{a} + {b} = {correct_sum} not {sum}\"\n",
        "print('Your answer is correct')"
      ]
    },
    {
      "cell_type": "code",
      "execution_count": null,
      "metadata": {
        "id": "HJavuWRgsk64"
      },
      "outputs": [],
      "source": [
        "# Change the value of this number so the difference is 2.5\n",
        "a = 5.5\n",
        "b = 3.0\n",
        "difference = None\n",
        "\n",
        "# Testing\n",
        "correct_difference = 2.5\n",
        "assert difference == correct_difference, f\"{a} - {b} = {correct_difference} not {difference}\"\n",
        "print('Your answer is correct')"
      ]
    },
    {
      "cell_type": "code",
      "execution_count": null,
      "metadata": {
        "id": "lmKDoiuqsmd4"
      },
      "outputs": [],
      "source": [
        "# Change the value of this number so the product is 19.5\n",
        "a = 6.5\n",
        "b = 3.0\n",
        "product = None\n",
        "\n",
        "# Testing\n",
        "correct_product = 19.5\n",
        "assert product == correct_product, f\"{a} x {b} = {correct_product} not {product}\"\n",
        "print('Your answer is correct')"
      ]
    },
    {
      "cell_type": "code",
      "execution_count": null,
      "metadata": {
        "id": "icIsS-2Ksort"
      },
      "outputs": [],
      "source": [
        "# Change the value of this number so the quotient is 4.5\n",
        "a = 9.0\n",
        "b = 2.0\n",
        "quotient = None\n",
        "\n",
        "# Testing\n",
        "correct_quotient = 4.5\n",
        "assert quotient == correct_quotient, f\"{a} / {b} = {correct_quotient} not {quotient}\"\n",
        "print('Your answer is correct')"
      ]
    },
    {
      "cell_type": "code",
      "execution_count": null,
      "metadata": {
        "id": "3iXPo2kGtHeA"
      },
      "outputs": [],
      "source": [
        "# Change the value of this number so the result is 27.0\n",
        "a = 3.0\n",
        "b = 3\n",
        "result = None\n",
        "\n",
        "# Testing\n",
        "correct_result = 27.0\n",
        "assert result == correct_result, f\"{a} ** {b} = {correct_result} not {result}\"\n",
        "print('Your answer is correct')"
      ]
    },
    {
      "cell_type": "code",
      "execution_count": null,
      "metadata": {
        "id": "LrsfRCc8m0KC"
      },
      "outputs": [],
      "source": [
        "# Round 7.856 to two decimal places\n",
        "value = 7.856\n",
        "rounded_value = None\n",
        "\n",
        "# Testing\n",
        "correct_value = round(7.856, 2)\n",
        "assert rounded_value == correct_value, f\"The value should be {correct_value}, but got {rounded_value}\"\n",
        "print('Your answer is correct')"
      ]
    },
    {
      "cell_type": "code",
      "execution_count": null,
      "metadata": {
        "id": "OGP0Vb-Tm036"
      },
      "outputs": [],
      "source": [
        "# Divide 15.75 by 3 and assign it to result\n",
        "a = 15.75\n",
        "b = 3\n",
        "result = None\n",
        "\n",
        "# Testing\n",
        "correct_value = 15.75 / 3\n",
        "assert result == correct_value, f\"The value should be {correct_value}, but got {result}\"\n",
        "print('Your answer is correct')"
      ]
    },
    {
      "cell_type": "markdown",
      "metadata": {
        "id": "_wWpiU1v-c3g"
      },
      "source": [
        "### Integers\n",
        "\n",
        "Now we will explore integers, Python's data type for representing whole numbers, which includes both positive and negative values without any fractional component."
      ]
    },
    {
      "cell_type": "code",
      "execution_count": null,
      "metadata": {
        "id": "D0KA_JZA5O3E"
      },
      "outputs": [],
      "source": [
        "# Change the value of this number so it's 25\n",
        "number = None\n",
        "\n",
        "# Testing\n",
        "result = 25\n",
        "assert result == number, f\"{result} is not equal to {number}\"\n",
        "print('Your answer is correct')"
      ]
    },
    {
      "cell_type": "code",
      "execution_count": null,
      "metadata": {
        "id": "OPFz_z_SABZq"
      },
      "outputs": [],
      "source": [
        "# Change the value of this number so it's 8\n",
        "a = 3\n",
        "b = 5\n",
        "sum = None\n",
        "\n",
        "# Testing\n",
        "correct_sum = 8\n",
        "assert sum == correct_sum, f\"{a} + {b} = {correct_sum} not {sum}\"\n",
        "print('Your answer is correct')"
      ]
    },
    {
      "cell_type": "code",
      "execution_count": null,
      "metadata": {
        "id": "u7ezSyb9CCKg"
      },
      "outputs": [],
      "source": [
        "# Change the value of this number so it's 25\n",
        "a = 10\n",
        "b = 15\n",
        "sum = None\n",
        "\n",
        "# Testing\n",
        "correct_sum = 25\n",
        "assert sum == correct_sum, f\"{a} + {b} = {correct_sum} not {sum}\"\n",
        "print('Your answer is correct')"
      ]
    },
    {
      "cell_type": "code",
      "execution_count": null,
      "metadata": {
        "collapsed": true,
        "id": "uPbk_oy9AzOd"
      },
      "outputs": [],
      "source": [
        "# Change the value of this number so it's 36\n",
        "a = 4\n",
        "b = 9\n",
        "product = None\n",
        "\n",
        "# Testing\n",
        "correct_product = 36\n",
        "assert product == correct_product, f\"{a} x {b} = {correct_product} not {product}\"\n",
        "print('Your answer is correct')"
      ]
    },
    {
      "cell_type": "code",
      "execution_count": null,
      "metadata": {
        "id": "50YTLtmQCHyb"
      },
      "outputs": [],
      "source": [
        "# Change the value of this number so it's 25\n",
        "a = 5\n",
        "b = 5\n",
        "product = None\n",
        "\n",
        "# Testing\n",
        "correct_product = 25\n",
        "assert product == correct_product, f\"{a} x {b} = {correct_product} not {product}\"\n",
        "print('Your answer is correct')\n"
      ]
    },
    {
      "cell_type": "markdown",
      "metadata": {
        "id": "DrZorrEKC784"
      },
      "source": [
        "Now let's learn how to divide numbers"
      ]
    },
    {
      "cell_type": "code",
      "execution_count": null,
      "metadata": {
        "collapsed": true,
        "id": "gSqnRQPdBOWO"
      },
      "outputs": [],
      "source": [
        "# Change the value of this number so it's 25\n",
        "a = 100\n",
        "b = 4\n",
        "quotient = None\n",
        "\n",
        "# Testing\n",
        "correct_quotient = 25\n",
        "assert quotient == correct_quotient, f\"{a} / {b} = {correct_quotient} not {quotient}\"\n",
        "print('Your answer is correct')"
      ]
    },
    {
      "cell_type": "code",
      "execution_count": null,
      "metadata": {
        "id": "5e9JzHF5CJTZ"
      },
      "outputs": [],
      "source": [
        "# Change the value of this number so it's 25\n",
        "a = 50\n",
        "b = 2\n",
        "quotient = None\n",
        "\n",
        "# Testing\n",
        "correct_quotient = 25\n",
        "assert quotient == correct_quotient, f\"{a} / {b} = {correct_quotient} not {quotient}\"\n",
        "print('Your answer is correct')\n"
      ]
    },
    {
      "cell_type": "code",
      "execution_count": null,
      "metadata": {
        "collapsed": true,
        "id": "5Z3OTIitBRg_"
      },
      "outputs": [],
      "source": [
        "# Change the value of this number so it's 25\n",
        "a = 50\n",
        "b = 25\n",
        "difference = None\n",
        "\n",
        "# Testing\n",
        "correct_difference = 25\n",
        "assert difference == correct_difference, f\"{a} - {b} = {correct_difference} not {difference}\"\n",
        "print('Your answer is correct')\n"
      ]
    },
    {
      "cell_type": "code",
      "execution_count": null,
      "metadata": {
        "id": "0w0VkLOHCE7w"
      },
      "outputs": [],
      "source": [
        "# Change the value of this number so it's 25\n",
        "a = 75\n",
        "b = 50\n",
        "difference = None\n",
        "\n",
        "# Testing\n",
        "correct_difference = 25\n",
        "assert difference == correct_difference, f\"{a} - {b} = {correct_difference} not {difference}\"\n",
        "print('Your answer is correct')"
      ]
    },
    {
      "cell_type": "code",
      "execution_count": null,
      "metadata": {
        "id": "u0psX688s3Pe"
      },
      "outputs": [],
      "source": [
        "# Change the value of this number so the remainder is 2\n",
        "a = 17\n",
        "b = 5\n",
        "remainder = None\n",
        "\n",
        "# Testing\n",
        "correct_remainder = 2\n",
        "assert remainder == correct_remainder, f\"{a} % {b} = {correct_remainder} not {remainder}\"\n",
        "print('Your answer is correct')"
      ]
    },
    {
      "cell_type": "code",
      "execution_count": null,
      "metadata": {
        "id": "JpcaV7yas4DW"
      },
      "outputs": [],
      "source": [
        "# Change the value of this number so the remainder is 1\n",
        "a = 10\n",
        "b = 3\n",
        "remainder = None\n",
        "\n",
        "# Testing\n",
        "correct_remainder = 1\n",
        "assert remainder == correct_remainder, f\"{a} % {b} = {correct_remainder} not {remainder}\"\n",
        "print('Your answer is correct')"
      ]
    },
    {
      "cell_type": "code",
      "execution_count": null,
      "metadata": {
        "id": "UkBrIFcgs9VD"
      },
      "outputs": [],
      "source": [
        "# Change the value of this number so the result is 81\n",
        "a = 9\n",
        "b = 2\n",
        "result = None\n",
        "\n",
        "# Testing\n",
        "correct_result = 81\n",
        "assert result == correct_result, f\"{a} ** {b} = {correct_result} not {result}\"\n",
        "print('Your answer is correct')"
      ]
    },
    {
      "cell_type": "code",
      "execution_count": null,
      "metadata": {
        "id": "wk5bL3v4s-5_"
      },
      "outputs": [],
      "source": [
        "# Change the value of this number so the result is 64\n",
        "a = 4\n",
        "b = 3\n",
        "result = None\n",
        "\n",
        "# Testing\n",
        "correct_result = 64\n",
        "assert result == correct_result, f\"{a} ** {b} = {correct_result} not {result}\"\n",
        "print('Your answer is correct')"
      ]
    },
    {
      "cell_type": "markdown",
      "metadata": {
        "id": "QaMJh2HXtYZf"
      },
      "source": [
        "### Strings\n",
        "\n",
        "Finally we will delve into strings, Python's data type for representing sequences of characters, used to handle and manipulate text."
      ]
    },
    {
      "cell_type": "code",
      "execution_count": null,
      "metadata": {
        "id": "cMOj6VJEtaT8"
      },
      "outputs": [],
      "source": [
        "# Combine the strings so the result is \"Good morning, Sunshine!\"\n",
        "first = \"Good morning, \"\n",
        "second = \"Sunshine!\"\n",
        "greeting = None\n",
        "\n",
        "# Testing\n",
        "correct_greeting = \"Good morning, Sunshine!\"\n",
        "assert greeting == correct_greeting, f\"The greeting should be '{correct_greeting}', but got '{greeting}'\"\n",
        "print('Your answer is correct')"
      ]
    },
    {
      "cell_type": "code",
      "execution_count": null,
      "metadata": {
        "id": "18SPsE42tq9f"
      },
      "outputs": [],
      "source": [
        "# Combine the strings so the result is \"Have a great day!\"\n",
        "first = \"Have a great \"\n",
        "second = \"day!\"\n",
        "greeting = None\n",
        "\n",
        "# Testing\n",
        "correct_greeting = \"Have a great day!\"\n",
        "assert greeting == correct_greeting, f\"The greeting should be '{correct_greeting}', but got '{greeting}'\"\n",
        "print('Your answer is correct')"
      ]
    },
    {
      "cell_type": "code",
      "execution_count": null,
      "metadata": {
        "id": "pkUcKl3gt1rt"
      },
      "outputs": [],
      "source": [
        "# Find the length of this string\n",
        "statement = \"Python is awesome!\"\n",
        "length = None\n",
        "\n",
        "# Testing\n",
        "correct_length = 18\n",
        "assert length == correct_length, f\"The length should be {correct_length}, but got {length}\"\n",
        "print('Your answer is correct')"
      ]
    },
    {
      "cell_type": "code",
      "execution_count": null,
      "metadata": {
        "id": "tuxhGDEQuCc2"
      },
      "outputs": [],
      "source": [
        "# Find the length of this string\n",
        "statement = \"Learning Python is fun!\"\n",
        "length = None\n",
        "\n",
        "# Testing\n",
        "correct_length = 23\n",
        "assert length == correct_length, f\"The length should be {correct_length}, but got {length}\"\n",
        "print('Your answer is correct')"
      ]
    },
    {
      "cell_type": "code",
      "execution_count": null,
      "metadata": {
        "id": "fJOux_Jruikt"
      },
      "outputs": [],
      "source": [
        "# Extract the substring \"awesome\" from the string \"Python is awesome!\"\n",
        "string = \"Python is awesome!\"\n",
        "substring = None\n",
        "\n",
        "# Testing\n",
        "correct_substring = \"awesome\"\n",
        "assert substring == correct_substring, f\"The substring should be '{correct_substring}', but got '{substring}'\"\n",
        "print('Your answer is correct')"
      ]
    },
    {
      "cell_type": "code",
      "execution_count": null,
      "metadata": {
        "id": "tdgxvmoDuoHc"
      },
      "outputs": [],
      "source": [
        "# Extract the substring \"learning\" from the string \"I am learning Python!\"\n",
        "string = \"I am learning Python!\"\n",
        "substring = None\n",
        "\n",
        "# Testing\n",
        "correct_substring = \"learning\"\n",
        "assert substring == correct_substring, f\"The substring should be '{correct_substring}', but got '{substring}'\"\n",
        "print('Your answer is correct')\n"
      ]
    },
    {
      "cell_type": "code",
      "execution_count": null,
      "metadata": {
        "id": "OpdlnHStuLxf"
      },
      "outputs": [],
      "source": [
        "# Convert the string \"hello\" to uppercase\n",
        "string = \"hello\"\n",
        "uppercase_string = None\n",
        "\n",
        "# Testing\n",
        "correct_uppercase_string = \"HELLO\"\n",
        "assert uppercase_string == correct_uppercase_string, f\"The uppercase string should be '{correct_uppercase_string}', but got '{uppercase_string}'\"\n",
        "print('Your answer is correct')"
      ]
    },
    {
      "cell_type": "code",
      "execution_count": null,
      "metadata": {
        "id": "ONNV8EU6uTCt"
      },
      "outputs": [],
      "source": [
        "# Convert the string \"world\" to uppercase\n",
        "string = \"world\"\n",
        "uppercase_string = None\n",
        "\n",
        "# Testing\n",
        "correct_uppercase_string = \"WORLD\"\n",
        "assert uppercase_string == correct_uppercase_string, f\"The uppercase string should be '{correct_uppercase_string}', but got '{uppercase_string}'\"\n",
        "print('Your answer is correct')"
      ]
    },
    {
      "cell_type": "code",
      "execution_count": null,
      "metadata": {
        "id": "q557eNkwveZu"
      },
      "outputs": [],
      "source": [
        "# Find the index of the substring \"Python\" in the string\n",
        "sentence = \"Python programming is fun.\"\n",
        "index = None\n",
        "\n",
        "# Testing\n",
        "correct_index = 0\n",
        "assert index == correct_index, f\"The index should be {correct_index}, but got {index}\"\n",
        "print('Your answer is correct')"
      ]
    },
    {
      "cell_type": "code",
      "execution_count": null,
      "metadata": {
        "id": "RDqRnTC3vkc_"
      },
      "outputs": [],
      "source": [
        "# Try to find the index of the substring \"Java\" in the string\n",
        "sentence = \"Python programming is fun.\"\n",
        "index = None\n",
        "\n",
        "# Testing\n",
        "correct_index = -1\n",
        "assert index == correct_index, f\"The index should be {correct_index}, but got {index}\"\n",
        "print('Your answer is correct')"
      ]
    },
    {
      "cell_type": "markdown",
      "metadata": {
        "id": "t9myAyIkmHK4"
      },
      "source": [
        "### Booleans\n",
        "\n",
        "In this section, we will examine booleans, Python's data type for representing logical values, which can be either True or False, and are crucial for controlling the flow of programs."
      ]
    },
    {
      "cell_type": "code",
      "execution_count": null,
      "metadata": {
        "id": "q98OXq-zmLny"
      },
      "outputs": [],
      "source": [
        "# Set the value of this boolean variable to False\n",
        "is_tired = None\n",
        "\n",
        "# Testing\n",
        "correct_value = False\n",
        "assert is_tired == correct_value, f\"The value should be {correct_value}, but got {is_tired}\"\n",
        "print('Your answer is correct')"
      ]
    },
    {
      "cell_type": "code",
      "execution_count": null,
      "metadata": {
        "id": "i3hg_WfzmNZJ"
      },
      "outputs": [],
      "source": [
        "# Set the value of this boolean variable to True\n",
        "is_hungry = None\n",
        "\n",
        "# Testing\n",
        "correct_value = True\n",
        "assert is_hungry == correct_value, f\"The value should be {correct_value}, but got {is_hungry}\"\n",
        "print('Your answer is correct')"
      ]
    },
    {
      "cell_type": "code",
      "execution_count": null,
      "metadata": {
        "id": "LwUxKwSYmOTg"
      },
      "outputs": [],
      "source": [
        "# Evaluate the expression 10 < 5 and assign it to result\n",
        "result = None\n",
        "\n",
        "# Testing\n",
        "correct_value = False\n",
        "assert result == correct_value, f\"The value should be {correct_value}, but got {result}\"\n",
        "print('Your answer is correct')"
      ]
    },
    {
      "cell_type": "code",
      "execution_count": null,
      "metadata": {
        "id": "QWEDYeAamPox"
      },
      "outputs": [],
      "source": [
        "# Evaluate the expression 7 >= 7 and assign it to result\n",
        "result = None\n",
        "\n",
        "# Testing\n",
        "correct_value = True\n",
        "assert result == correct_value, f\"The value should be {correct_value}, but got {result}\"\n",
        "print('Your answer is correct')"
      ]
    },
    {
      "cell_type": "code",
      "execution_count": null,
      "metadata": {
        "id": "800EOCO2mRGi"
      },
      "outputs": [],
      "source": [
        "# Evaluate the expression 4 != 4 and assign it to result\n",
        "result = None\n",
        "\n",
        "# Testing\n",
        "correct_value = False\n",
        "assert result == correct_value, f\"The value should be {correct_value}, but got {result}\"\n",
        "print('Your answer is correct')"
      ]
    },
    {
      "cell_type": "code",
      "execution_count": null,
      "metadata": {
        "id": "_gntmjXAmTZz"
      },
      "outputs": [],
      "source": [
        "# Evaluate the expression \"apple\" == \"Apple\" and assign it to result\n",
        "result = None\n",
        "\n",
        "# Testing\n",
        "correct_value = False\n",
        "assert result == correct_value, f\"The value should be {correct_value}, but got {result}\"\n",
        "print('Your answer is correct')"
      ]
    },
    {
      "cell_type": "code",
      "execution_count": null,
      "metadata": {
        "id": "_z2J8ZE3mUeq"
      },
      "outputs": [],
      "source": [
        "# Combine False and True using the or operator\n",
        "result = None\n",
        "\n",
        "# Testing\n",
        "correct_value = True\n",
        "assert result == correct_value, f\"The value should be {correct_value}, but got {result}\"\n",
        "print('Your answer is correct')"
      ]
    },
    {
      "cell_type": "code",
      "execution_count": null,
      "metadata": {
        "id": "UUqoLxeXmWaY"
      },
      "outputs": [],
      "source": [
        "# Combine True and True using the or operator\n",
        "result = None\n",
        "\n",
        "# Testing\n",
        "correct_value = True\n",
        "assert result == correct_value, f\"The value should be {correct_value}, but got {result}\"\n",
        "print('Your answer is correct')"
      ]
    },
    {
      "cell_type": "code",
      "execution_count": null,
      "metadata": {
        "id": "hjG-K_xAmXfO"
      },
      "outputs": [],
      "source": [
        "# Negate True using the not operator\n",
        "result = None\n",
        "\n",
        "# Testing\n",
        "correct_value = False\n",
        "assert result == correct_value, f\"The value should be {correct_value}, but got {result}\"\n",
        "print('Your answer is correct')"
      ]
    },
    {
      "cell_type": "code",
      "execution_count": null,
      "metadata": {
        "id": "ubxP-5XJmYqT"
      },
      "outputs": [],
      "source": [
        "# Negate False using the not operator\n",
        "result = None\n",
        "\n",
        "# Testing\n",
        "correct_value = True\n",
        "assert result == correct_value, f\"The value should be {correct_value}, but got {result}\"\n",
        "print('Your answer is correct')"
      ]
    },
    {
      "cell_type": "markdown",
      "metadata": {
        "id": "GKFmI2G8qBcF"
      },
      "source": [
        "## Operators\n",
        "\n",
        "We will cover operators in Python, focusing on arithmetic operators for performing calculations, comparison operators for evaluating relationships between values, logical operators for combining boolean expressions, and assignment operators for assigning values to variables."
      ]
    },
    {
      "cell_type": "markdown",
      "metadata": {
        "id": "N9DgkLBIqT5x"
      },
      "source": [
        "### Arithmetic\n",
        "\n",
        "We'll explore arithmetic operators, which are used to perform basic mathematical operations like addition, subtraction, multiplication, and division."
      ]
    },
    {
      "cell_type": "code",
      "execution_count": null,
      "metadata": {
        "id": "vrd0nZKsqWgR"
      },
      "outputs": [],
      "source": [
        "# Add 3.5 and 2.3, and assign the result to sum\n",
        "sum = None\n",
        "\n",
        "# Testing\n",
        "correct_value = 5.8\n",
        "assert sum == correct_value, f\"The value should be {correct_value}, but got {sum}\"\n",
        "print('Your answer is correct')"
      ]
    },
    {
      "cell_type": "code",
      "execution_count": null,
      "metadata": {
        "id": "JPZq5kPnqZGU"
      },
      "outputs": [],
      "source": [
        "# Subtract 8 from 15, and assign the result to difference\n",
        "difference = None\n",
        "\n",
        "# Testing\n",
        "correct_value = 7\n",
        "assert difference == correct_value, f\"The value should be {correct_value}, but got {difference}\"\n",
        "print('Your answer is correct')"
      ]
    },
    {
      "cell_type": "code",
      "execution_count": null,
      "metadata": {
        "id": "3evWPOhgqaYQ"
      },
      "outputs": [],
      "source": [
        "# Multiply 4 by 6, and assign the result to product\n",
        "product = None\n",
        "\n",
        "# Testing\n",
        "correct_value = 24\n",
        "assert product == correct_value, f\"The value should be {correct_value}, but got {product}\"\n",
        "print('Your answer is correct')"
      ]
    },
    {
      "cell_type": "code",
      "execution_count": null,
      "metadata": {
        "id": "juThQdMgqcXj"
      },
      "outputs": [],
      "source": [
        "# Divide 21 by 4 using /, and assign the result to quotient\n",
        "quotient = None\n",
        "\n",
        "# Testing\n",
        "correct_value = 5.25\n",
        "assert quotient == correct_value, f\"The value should be {correct_value}, but got {quotient}\"\n",
        "print('Your answer is correct')"
      ]
    },
    {
      "cell_type": "code",
      "execution_count": null,
      "metadata": {
        "id": "PmLMwrSGqeF0"
      },
      "outputs": [],
      "source": [
        "# Divide 21 by 4 using //, and assign the result to quotient\n",
        "quotient = None\n",
        "\n",
        "# Testing\n",
        "correct_value = 5\n",
        "assert quotient == correct_value, f\"The value should be {correct_value}, but got {quotient}\"\n",
        "print('Your answer is correct')"
      ]
    },
    {
      "cell_type": "code",
      "execution_count": null,
      "metadata": {
        "id": "_QXsw-88rBoE"
      },
      "outputs": [],
      "source": [
        "# Find the remainder when 10 is divided by 3, and assign the result to remainder\n",
        "remainder = None\n",
        "\n",
        "# Testing\n",
        "correct_value = 1\n",
        "assert remainder == correct_value, f\"The value should be {correct_value}, but got {remainder}\"\n",
        "print('Your answer is correct')"
      ]
    },
    {
      "cell_type": "code",
      "execution_count": null,
      "metadata": {
        "id": "8dJyICYJrDZ-"
      },
      "outputs": [],
      "source": [
        "# Raise 2 to the power of 3, and assign the result to power\n",
        "power = None\n",
        "\n",
        "# Testing\n",
        "correct_value = 8\n",
        "assert power == correct_value, f\"The value should be {correct_value}, but got {power}\"\n",
        "print('Your answer is correct')"
      ]
    },
    {
      "cell_type": "markdown",
      "metadata": {
        "id": "cxLhj1dLrK1f"
      },
      "source": [
        "### Comparison\n",
        "\n",
        "Comparison operators allow us to evaluate relationships between values, such as checking for equality, inequality, or relative magnitude."
      ]
    },
    {
      "cell_type": "code",
      "execution_count": null,
      "metadata": {
        "id": "5if_gGJzrD85"
      },
      "outputs": [],
      "source": [
        "# Check if 8 is equal to 8, and assign the result to is_equal\n",
        "is_equal = None\n",
        "\n",
        "# Testing\n",
        "correct_value = True\n",
        "assert is_equal == correct_value, f\"The value should be {correct_value}, but got {is_equal}\"\n",
        "print('Your answer is correct')"
      ]
    },
    {
      "cell_type": "code",
      "execution_count": null,
      "metadata": {
        "id": "JWEILD77rF4R"
      },
      "outputs": [],
      "source": [
        "# Check if 10 is not equal to 5, and assign the result to not_equal\n",
        "not_equal = None\n",
        "\n",
        "# Testing\n",
        "correct_value = True\n",
        "assert not_equal == correct_value, f\"The value should be {correct_value}, but got {not_equal}\"\n",
        "print('Your answer is correct')"
      ]
    },
    {
      "cell_type": "code",
      "execution_count": null,
      "metadata": {
        "id": "mhIoVV8GrIWP"
      },
      "outputs": [],
      "source": [
        "# Check if 15 is greater than 10, and assign the result to is_greater\n",
        "is_greater = None\n",
        "\n",
        "# Testing\n",
        "correct_value = True\n",
        "assert is_greater == correct_value, f\"The value should be {correct_value}, but got {is_greater}\"\n",
        "print('Your answer is correct')"
      ]
    },
    {
      "cell_type": "markdown",
      "metadata": {
        "id": "fd5QoHBIrXuT"
      },
      "source": [
        "### Logical\n",
        "\n",
        "Logical operators enable us to combine and evaluate multiple boolean expressions, using operations like AND, OR, and NOT."
      ]
    },
    {
      "cell_type": "code",
      "execution_count": null,
      "metadata": {
        "id": "fABDj6g1rOSc"
      },
      "outputs": [],
      "source": [
        "# Combine the boolean values True and False using the and operator. What is the result?\n",
        "result = None\n",
        "\n",
        "# Testing\n",
        "correct_value = False\n",
        "assert result == correct_value, f\"The value should be {correct_value}, but got {result}\"\n",
        "print('Your answer is correct')"
      ]
    },
    {
      "cell_type": "code",
      "execution_count": null,
      "metadata": {
        "id": "r2GaMIlVrZ5f"
      },
      "outputs": [],
      "source": [
        "# Combine the boolean values True and True using the and operator. What is the result?\n",
        "result = None\n",
        "\n",
        "# Testing\n",
        "correct_value = True\n",
        "assert result == correct_value, f\"The value should be {correct_value}, but got {result}\"\n",
        "print('Your answer is correct')"
      ]
    },
    {
      "cell_type": "code",
      "execution_count": null,
      "metadata": {
        "id": "zzAsejCxra8c"
      },
      "outputs": [],
      "source": [
        "# Combine the boolean values True and False using the or operator. What is the result?\n",
        "result = None\n",
        "\n",
        "# Testing\n",
        "correct_value = True\n",
        "assert result == correct_value, f\"The value should be {correct_value}, but got {result}\"\n",
        "print('Your answer is correct')"
      ]
    },
    {
      "cell_type": "code",
      "execution_count": null,
      "metadata": {
        "id": "1RAynRsWrb3m"
      },
      "outputs": [],
      "source": [
        "# Apply the not operator to the boolean value True. What is the result?\n",
        "result = None\n",
        "\n",
        "# Testing\n",
        "correct_value = False\n",
        "assert result == correct_value, f\"The value should be {correct_value}, but got {result}\"\n",
        "print('Your answer is correct')"
      ]
    },
    {
      "cell_type": "markdown",
      "metadata": {
        "id": "s046Nb2trh8_"
      },
      "source": [
        "### Assignment\n",
        "\n",
        "Further, assignment operators are used to assign values to variables and can also combine assignment with arithmetic operations.\n",
        "\n",
        "\n",
        "\n",
        "\n",
        "\n",
        "\n"
      ]
    },
    {
      "cell_type": "code",
      "execution_count": null,
      "metadata": {
        "id": "0Oro6uVLrjZz"
      },
      "outputs": [],
      "source": [
        "# Add 5 to the variable x and assign the result back to x\n",
        "x = 10\n",
        "x += None\n",
        "\n",
        "# Testing\n",
        "correct_value = 15\n",
        "assert x == correct_value, f\"The value should be {correct_value}, but got {x}\"\n",
        "print('Your answer is correct')"
      ]
    },
    {
      "cell_type": "code",
      "execution_count": null,
      "metadata": {
        "id": "Wu6ZrfBxrlNB"
      },
      "outputs": [],
      "source": [
        "# Add 2.5 to the variable y and assign the result back to y\n",
        "y = 3.5\n",
        "y += None\n",
        "\n",
        "# Testing\n",
        "correct_value = 6.0\n",
        "assert y == correct_value, f\"The value should be {correct_value}, but got {y}\"\n",
        "print('Your answer is correct')"
      ]
    },
    {
      "cell_type": "code",
      "execution_count": null,
      "metadata": {
        "id": "hH_4xGOirmUZ"
      },
      "outputs": [],
      "source": [
        "# Multiply the variable x by 3 and assign the result back to x\n",
        "x = 5\n",
        "x *= None\n",
        "\n",
        "# Testing\n",
        "correct_value = 15\n",
        "assert x == correct_value, f\"The value should be {correct_value}, but got {x}\"\n",
        "print('Your answer is correct')"
      ]
    },
    {
      "cell_type": "code",
      "execution_count": null,
      "metadata": {
        "id": "-LTtoCaxrnU7"
      },
      "outputs": [],
      "source": [
        "# Multiply the variable y by 2 and assign the result back to y\n",
        "y = 4.0\n",
        "y *= None\n",
        "\n",
        "# Testing\n",
        "correct_value = 8.0\n",
        "assert y == correct_value, f\"The value should be {correct_value}, but got {y}\"\n",
        "print('Your answer is correct')"
      ]
    },
    {
      "cell_type": "markdown",
      "metadata": {
        "id": "-ccnndWnsAPr"
      },
      "source": []
    },
    {
      "cell_type": "markdown",
      "metadata": {
        "id": "oUcBk0xa35vv"
      },
      "source": [
        "## Advanced Data Types\n",
        "\n",
        "We'll delve into advanced data types, including lists for ordered collections, tuples for immutable sequences, dictionaries for key-value mappings, and sets for unordered collections of unique elements."
      ]
    },
    {
      "cell_type": "markdown",
      "metadata": {
        "id": "xmKQ7GQl4F90"
      },
      "source": [
        "### Lists\n",
        "\n",
        "Lists are Python's versatile data type for creating ordered collections of items, allowing for flexible and dynamic manipulation of elements. Let's check them out!"
      ]
    },
    {
      "cell_type": "code",
      "execution_count": null,
      "metadata": {
        "id": "kmMaF-mR38Nb"
      },
      "outputs": [],
      "source": [
        "# Change the value of this list so it contains [1, 2, 3, 4, 5]\n",
        "my_list = None\n",
        "\n",
        "# Testing\n",
        "correct_list = [1, 2, 3, 4, 5]\n",
        "assert my_list == correct_list, f\"The list should be {correct_list}, but got {my_list}\"\n",
        "print('Your answer is correct')"
      ]
    },
    {
      "cell_type": "code",
      "execution_count": null,
      "metadata": {
        "id": "8UHMwp4J4Ie7"
      },
      "outputs": [],
      "source": [
        "# Append the number 10 to the existing list [1, 2, 3]\n",
        "numbers = [1, 2, 3]\n",
        "numbers.append(None)\n",
        "\n",
        "# Testing\n",
        "correct_list = [1, 2, 3, 10]\n",
        "assert numbers == correct_list, f\"The list should be {correct_list}, but got {numbers}\"\n",
        "print('Your answer is correct')"
      ]
    },
    {
      "cell_type": "code",
      "execution_count": null,
      "metadata": {
        "id": "VdS7vHSw4Kng"
      },
      "outputs": [],
      "source": [
        "# Remove the element 'banana' from the list ['apple', 'banana', 'cherry']\n",
        "fruits = ['apple', 'banana', 'cherry']\n",
        "fruits.remove(None)\n",
        "\n",
        "# Testing\n",
        "correct_list = ['apple', 'cherry']\n",
        "assert fruits == correct_list, f\"The list should be {correct_list}, but got {fruits}\"\n",
        "print('Your answer is correct')"
      ]
    },
    {
      "cell_type": "code",
      "execution_count": null,
      "metadata": {
        "id": "rHgoxySt4LGR"
      },
      "outputs": [],
      "source": [
        "# Set the value of this list so it contains the first 5 even numbers: [2, 4, 6, 8, 10]\n",
        "even_numbers = None\n",
        "\n",
        "# Testing\n",
        "correct_list = [2, 4, 6, 8, 10]\n",
        "assert even_numbers == correct_list, f\"The list should be {correct_list}, but got {even_numbers}\"\n",
        "print('Your answer is correct')"
      ]
    },
    {
      "cell_type": "code",
      "execution_count": null,
      "metadata": {
        "id": "Dy2Q4nTW4MKn"
      },
      "outputs": [],
      "source": [
        "# Access the third element of the list [10, 20, 30, 40] and assign it to `third_element`\n",
        "my_list = [10, 20, 30, 40]\n",
        "third_element = None\n",
        "\n",
        "# Testing\n",
        "correct_value = 30\n",
        "assert third_element == correct_value, f\"The third element should be {correct_value}, but got {third_element}\"\n",
        "print('Your answer is correct')"
      ]
    },
    {
      "cell_type": "code",
      "execution_count": null,
      "metadata": {
        "id": "tdZMi8ed4NU5"
      },
      "outputs": [],
      "source": [
        "# Create a list with 3 elements and then extend it by adding another list [4, 5, 6]\n",
        "original_list = [1, 2, 3]\n",
        "additional_list = [4, 5, 6]\n",
        "original_list.extend(None)\n",
        "\n",
        "# Testing\n",
        "correct_list = [1, 2, 3, 4, 5, 6]\n",
        "assert original_list == correct_list, f\"The list should be {correct_list}, but got {original_list}\"\n",
        "print('Your answer is correct')"
      ]
    },
    {
      "cell_type": "code",
      "execution_count": null,
      "metadata": {
        "id": "27KvzkG64PDV"
      },
      "outputs": [],
      "source": [
        "# Create a list of strings and concatenate them into a single string with spaces in between\n",
        "words = [\"Hello\", \"world\", \"Python\"]\n",
        "sentence = None\n",
        "\n",
        "# Testing\n",
        "correct_sentence = \"Hello world Python\"\n",
        "assert sentence == correct_sentence, f\"The sentence should be '{correct_sentence}', but got '{sentence}'\"\n",
        "print('Your answer is correct')"
      ]
    },
    {
      "cell_type": "code",
      "execution_count": null,
      "metadata": {
        "id": "XUIJzcji4QWQ"
      },
      "outputs": [],
      "source": [
        "# Find the index of the number 3 in the list [1, 2, 3, 4, 5] and assign it to `index`\n",
        "numbers = [1, 2, 3, 4, 5]\n",
        "index = None\n",
        "\n",
        "# Testing\n",
        "correct_index = 2\n",
        "assert index == correct_index, f\"The index should be {correct_index}, but got {index}\"\n",
        "print('Your answer is correct')"
      ]
    },
    {
      "cell_type": "code",
      "execution_count": null,
      "metadata": {
        "id": "JE5vKYWJ4ec1"
      },
      "outputs": [],
      "source": [
        "# Change the value of this list so it contains ['a', 'b', 'c', 'd']\n",
        "letters = None\n",
        "\n",
        "# Testing\n",
        "correct_list = ['a', 'b', 'c', 'd']\n",
        "assert letters == correct_list, f\"The list should be {correct_list}, but got {letters}\"\n",
        "print('Your answer is correct')"
      ]
    },
    {
      "cell_type": "code",
      "execution_count": null,
      "metadata": {
        "id": "dd71gbR34e_Q"
      },
      "outputs": [],
      "source": [
        "# Find the maximum value in the list [15, 22, 8, 19] and assign it to `max_value`\n",
        "values = [15, 22, 8, 19]\n",
        "max_value = None\n",
        "\n",
        "# Testing\n",
        "correct_value = 22\n",
        "assert max_value == correct_value, f\"The maximum value should be {correct_value}, but got {max_value}\"\n",
        "print('Your answer is correct')"
      ]
    },
    {
      "cell_type": "code",
      "execution_count": null,
      "metadata": {
        "id": "mT4qVfTJ4gKv"
      },
      "outputs": [],
      "source": [
        "# Insert the value 100 at index 2 in the list [1, 2, 3, 4]\n",
        "my_list = [1, 2, 3, 4]\n",
        "\n",
        "# Testing\n",
        "correct_list = [1, 2, 100, 3, 4]\n",
        "assert my_list == correct_list, f\"The list should be {correct_list}, but got {my_list}\"\n",
        "print('Your answer is correct')"
      ]
    },
    {
      "cell_type": "code",
      "execution_count": null,
      "metadata": {
        "id": "o8MXHSKP65K4"
      },
      "outputs": [],
      "source": [
        "# Given a list of numbers, sort the list in ascending order\n",
        "numbers = [34, 7, 23, 32, 5, 62]\n",
        "\n",
        "# Sorting the list\n",
        "# Your code to sort the list goes here\n",
        "\n",
        "# Testing\n",
        "sorted_numbers = [5, 7, 23, 32, 34, 62]\n",
        "assert numbers == sorted_numbers, f\"The sorted list should be {sorted_numbers}, but got {numbers}\"\n",
        "print('Your answer is correct')"
      ]
    },
    {
      "cell_type": "markdown",
      "metadata": {
        "id": "Qomj4VN34iq3"
      },
      "source": [
        "### Tuples\n",
        "\n",
        "Tuples are Python's data type for creating immutable (or unchangeable) sequences, enabling the storage of fixed collections of items that cannot be modified after creation."
      ]
    },
    {
      "cell_type": "code",
      "execution_count": null,
      "metadata": {
        "id": "TI2L1OcS4no-"
      },
      "outputs": [],
      "source": [
        "# Change the value of this tuple so it contains (1, 2, 3, 4)\n",
        "my_tuple = None\n",
        "\n",
        "# Testing\n",
        "correct_tuple = (1, 2, 3, 4)\n",
        "assert my_tuple == correct_tuple, f\"The tuple should be {correct_tuple}, but got {my_tuple}\"\n",
        "print('Your answer is correct')"
      ]
    },
    {
      "cell_type": "code",
      "execution_count": null,
      "metadata": {
        "id": "JyTARcJB4pju"
      },
      "outputs": [],
      "source": [
        "# Create a tuple with the values 'apple', 'banana', and 'cherry'\n",
        "fruits = None\n",
        "\n",
        "# Testing\n",
        "correct_tuple = ('apple', 'banana', 'cherry')\n",
        "assert fruits == correct_tuple, f\"The tuple should be {correct_tuple}, but got {fruits}\"\n",
        "print('Your answer is correct')"
      ]
    },
    {
      "cell_type": "code",
      "execution_count": null,
      "metadata": {
        "id": "28UpBEqV4qcX"
      },
      "outputs": [],
      "source": [
        "# Access the second element of the tuple ('red', 'green', 'blue') and assign it to `second_color`\n",
        "colors = ('red', 'green', 'blue')\n",
        "second_color = None\n",
        "\n",
        "# Testing\n",
        "correct_value = 'green'\n",
        "assert second_color == correct_value, f\"The second color should be {correct_value}, but got {second_color}\"\n",
        "print('Your answer is correct')"
      ]
    },
    {
      "cell_type": "code",
      "execution_count": null,
      "metadata": {
        "id": "b2O_ifjw4sYq"
      },
      "outputs": [],
      "source": [
        "# Combine two tuples (1, 2) and (3, 4) into a single tuple\n",
        "tuple1 = (1, 2)\n",
        "tuple2 = (3, 4)\n",
        "combined_tuple = None\n",
        "\n",
        "# Testing\n",
        "correct_tuple = (1, 2, 3, 4)\n",
        "assert combined_tuple == correct_tuple, f\"The tuple should be {correct_tuple}, but got {combined_tuple}\"\n",
        "print('Your answer is correct')"
      ]
    },
    {
      "cell_type": "markdown",
      "metadata": {
        "id": "XS0bcyFB4-nf"
      },
      "source": [
        "### Dictionaries\n",
        "\n",
        "Dictionaries are Python's way of creating a magical map, where you can store and quickly retrieve values using unique keys, making data look-up as easy as finding a treasure with a map!"
      ]
    },
    {
      "cell_type": "code",
      "execution_count": null,
      "metadata": {
        "id": "_itjRksi5AU6"
      },
      "outputs": [],
      "source": [
        "# Create a dictionary with keys 'name' and 'age' and values 'Alice' and 30\n",
        "person = None\n",
        "\n",
        "# Testing\n",
        "correct_dict = {'name': 'Alice', 'age': 30}\n",
        "assert person == correct_dict, f\"The dictionary should be {correct_dict}, but got {person}\"\n",
        "print('Your answer is correct')"
      ]
    },
    {
      "cell_type": "code",
      "execution_count": null,
      "metadata": {
        "id": "SfeRD0OL5CCd"
      },
      "outputs": [],
      "source": [
        "# Add a new key 'city' with value 'New York' to the existing dictionary {'name': 'John', 'age': 25}\n",
        "info = {'name': 'John', 'age': 25}\n",
        "\n",
        "# Testing\n",
        "correct_dict = {'name': 'John', 'age': 25, 'city': 'New York'}\n",
        "assert info == correct_dict, f\"The dictionary should be {correct_dict}, but got {info}\"\n",
        "print('Your answer is correct')"
      ]
    },
    {
      "cell_type": "code",
      "execution_count": null,
      "metadata": {
        "id": "UmhMtOop5DO1"
      },
      "outputs": [],
      "source": [
        "# Remove the key 'age' from the dictionary {'name': 'Sara', 'age': 40}\n",
        "details = {'name': 'Sara', 'age': 40}\n",
        "\n",
        "# Testing\n",
        "correct_dict = {'name': 'Sara'}\n",
        "assert details == correct_dict, f\"The dictionary should be {correct_dict}, but got {details}\"\n",
        "print('Your answer is correct')"
      ]
    },
    {
      "cell_type": "code",
      "execution_count": null,
      "metadata": {
        "id": "oQJRWvWk5EOI"
      },
      "outputs": [],
      "source": [
        "# Get the value associated with the key 'email' from the dictionary {'name': 'Bob', 'email': 'bob@example.com'}\n",
        "contact_info = {'name': 'Bob', 'email': 'bob@example.com'}\n",
        "email = None\n",
        "\n",
        "# Testing\n",
        "correct_value = 'bob@example.com'\n",
        "assert email == correct_value, f\"The email should be {correct_value}, but got {email}\"\n",
        "print('Your answer is correct')"
      ]
    },
    {
      "cell_type": "code",
      "execution_count": null,
      "metadata": {
        "id": "HrSy1WHV5FY9"
      },
      "outputs": [],
      "source": [
        "# Update the value for the key 'status' to 'active' in the dictionary {'status': 'inactive', 'user': 'admin'}\n",
        "user_status = {'status': 'inactive', 'user': 'admin'}\n",
        "\n",
        "# Testing\n",
        "correct_dict = {'status': 'active', 'user': 'admin'}\n",
        "assert user_status == correct_dict, f\"The dictionary should be {correct_dict}, but got {user_status}\"\n",
        "print('Your answer is correct')"
      ]
    },
    {
      "cell_type": "code",
      "execution_count": null,
      "metadata": {
        "id": "Jrh-cw5y5G5n"
      },
      "outputs": [],
      "source": [
        "# Create a dictionary where the key is 'language' and the value is a list ['Python', 'JavaScript']\n",
        "language_dict = None\n",
        "\n",
        "# Testing\n",
        "correct_dict = {'language': ['Python', 'JavaScript']}\n",
        "assert language_dict == correct_dict, f\"The dictionary should be {correct_dict}, but got {language_dict}\"\n",
        "print('Your answer is correct')"
      ]
    },
    {
      "cell_type": "code",
      "execution_count": null,
      "metadata": {
        "id": "lVDAWeCf5ILv"
      },
      "outputs": [],
      "source": [
        "# Merge two dictionaries {'x': 1, 'y': 2} and {'z': 3, 'w': 4}\n",
        "dict1 = {'x': 1, 'y': 2}\n",
        "dict2 = {'z': 3, 'w': 4}\n",
        "merged_dict = None\n",
        "\n",
        "# Testing\n",
        "correct_dict = {'x': 1, 'y': 2, 'z': 3, 'w': 4}\n",
        "assert merged_dict == correct_dict, f\"The dictionary should be {correct_dict}, but got {merged_dict}\"\n",
        "print('Your answer is correct')"
      ]
    },
    {
      "cell_type": "code",
      "execution_count": null,
      "metadata": {
        "id": "nhvLYSCw5KtW"
      },
      "outputs": [],
      "source": [
        "# Create a dictionary with keys 'name' and 'age' and use the `get` method to retrieve the value of 'name'\n",
        "profile = {'name': 'Emma', 'age': 22}\n",
        "name = None\n",
        "\n",
        "# Testing\n",
        "correct_value = 'Emma'\n",
        "assert name == correct_value, f\"The name should be {correct_value}, but got {name}\"\n",
        "print('Your answer is correct')"
      ]
    },
    {
      "cell_type": "code",
      "execution_count": null,
      "metadata": {
        "id": "6VVNfdDV5UXp"
      },
      "outputs": [],
      "source": [
        "# Create a dictionary with the key 'numbers' having a tuple (1, 2, 3) as its value\n",
        "number_dict = None\n",
        "\n",
        "# Testing\n",
        "correct_dict = {'numbers': (1, 2, 3)}\n",
        "assert number_dict == correct_dict, f\"The dictionary should be {correct_dict}, but got {number_dict}\"\n",
        "print('Your answer is correct')"
      ]
    },
    {
      "cell_type": "code",
      "execution_count": null,
      "metadata": {
        "id": "9fd3WI515VWl"
      },
      "outputs": [],
      "source": [
        "# Create a dictionary and set the default value of key 'score' to 0 if it does not exist\n",
        "game_stats = {'level': 5}\n",
        "game_stats.setdefault('score', None)\n",
        "\n",
        "# Testing\n",
        "correct_dict = {'level': 5, 'score': 0}\n",
        "assert game_stats == correct_dict, f\"The dictionary should be {correct_dict}, but got {game_stats}\"\n",
        "print('Your answer is correct')"
      ]
    },
    {
      "cell_type": "markdown",
      "metadata": {
        "id": "pUFdzQ575cvn"
      },
      "source": [
        "### Sets\n",
        "\n",
        "Sets are Python's quirky collection for storing unique items, where duplicates are left out and you can quickly check membership or perform mathematical operations like unions and intersections."
      ]
    },
    {
      "cell_type": "code",
      "execution_count": null,
      "metadata": {
        "id": "EOtA94MK5dkS"
      },
      "outputs": [],
      "source": [
        "# Create a set containing the elements 1, 2, and 3\n",
        "my_set = None\n",
        "\n",
        "# Testing\n",
        "correct_set = {1, 2, 3}\n",
        "assert my_set == correct_set, f\"The set should be {correct_set}, but got {my_set}\"\n",
        "print('Your answer is correct')"
      ]
    },
    {
      "cell_type": "code",
      "execution_count": null,
      "metadata": {
        "id": "QVCX2gb15e-M"
      },
      "outputs": [],
      "source": [
        "# Add the element 4 to the existing set {1, 2, 3}\n",
        "numbers = {1, 2, 3}\n",
        "numbers.add(None)\n",
        "\n",
        "# Testing\n",
        "correct_set = {1, 2, 3, 4}\n",
        "assert numbers == correct_set, f\"The set should be {correct_set}, but got {numbers}\"\n",
        "print('Your answer is correct')"
      ]
    },
    {
      "cell_type": "code",
      "execution_count": null,
      "metadata": {
        "id": "DusSSK5G5f9D"
      },
      "outputs": [],
      "source": [
        "# Remove the element 2 from the set {1, 2, 3}\n",
        "numbers = {1, 2, 3}\n",
        "numbers.remove(None)\n",
        "\n",
        "# Testing\n",
        "correct_set = {1, 3}\n",
        "assert numbers == correct_set, f\"The set should be {correct_set}, but got {numbers}\"\n",
        "print('Your answer is correct')"
      ]
    },
    {
      "cell_type": "code",
      "execution_count": null,
      "metadata": {
        "id": "IjxTDDhy5hS0"
      },
      "outputs": [],
      "source": [
        "# Find the intersection of the sets {1, 2, 3} and {2, 3, 4}\n",
        "set1 = {1, 2, 3}\n",
        "set2 = {2, 3, 4}\n",
        "intersection = None\n",
        "\n",
        "# Testing\n",
        "correct_set = {2, 3}\n",
        "assert intersection == correct_set, f\"The set should be {correct_set}, but got {intersection}\"\n",
        "print('Your answer is correct')"
      ]
    },
    {
      "cell_type": "code",
      "execution_count": null,
      "metadata": {
        "id": "qvQzVKHN5ji6"
      },
      "outputs": [],
      "source": [
        "# Union of the sets {1, 2} and {3, 4}\n",
        "set1 = {1, 2}\n",
        "set2 = {2, 3, 4}\n",
        "union_set = None\n",
        "\n",
        "# Testing\n",
        "correct_set = {1, 2, 3, 4}\n",
        "assert union_set == correct_set, f\"The set should be {correct_set}, but got {union_set}\"\n",
        "print('Your answer is correct')"
      ]
    },
    {
      "cell_type": "code",
      "execution_count": null,
      "metadata": {
        "id": "cPXDWOlR5nDn"
      },
      "outputs": [],
      "source": [
        "# Find the difference between the sets {1, 2, 3} and {2, 3, 4}\n",
        "set1 = {1, 2, 3}\n",
        "set2 = {2, 3, 4}\n",
        "difference = None\n",
        "\n",
        "# Testing\n",
        "correct_set = {1}\n",
        "assert difference == correct_set, f\"The set should be {correct_set}, but got {difference}\"\n",
        "print('Your answer is correct')"
      ]
    },
    {
      "cell_type": "code",
      "execution_count": null,
      "metadata": {
        "id": "HzXTArEf5pF4"
      },
      "outputs": [],
      "source": [
        "# Create a set with the numbers from 1 to 5, then check the number of elements in the set\n",
        "my_set = None\n",
        "num_elements = None\n",
        "\n",
        "# Testing\n",
        "correct_num_elements = 5\n",
        "assert num_elements == correct_num_elements, f\"The number of elements should be {correct_num_elements}, but got {num_elements}\"\n",
        "print('Your answer is correct')"
      ]
    },
    {
      "cell_type": "markdown",
      "metadata": {
        "id": "aFbUQvMksAQw"
      },
      "source": [
        "## Control Flow\n",
        "\n",
        "Control flow is super powerful in Python and lets us direct the execution of code with tools like if statements for conditional logic. It's what brings Python to life!"
      ]
    },
    {
      "cell_type": "markdown",
      "metadata": {
        "id": "7fgdf24bsB9T"
      },
      "source": [
        "### Conditional Statements\n",
        "\n",
        "Conditional statements in Python allow us to execute different code blocks based on certain conditions using if, elif, and else to handle various scenarios and make decisions in our programs."
      ]
    },
    {
      "cell_type": "code",
      "execution_count": null,
      "metadata": {
        "id": "ZHnqQVp1sEu6"
      },
      "outputs": [],
      "source": [
        "# Check if the variable x is greater than 10. If true, assign \"Greater\" to the result.\n",
        "x = 15\n",
        "result = None\n",
        "\n",
        "# Testing\n",
        "correct_value = \"Greater\"\n",
        "assert result == correct_value, f\"The value should be {correct_value}, but got {result}\"\n",
        "print('Your answer is correct')"
      ]
    },
    {
      "cell_type": "code",
      "execution_count": null,
      "metadata": {
        "id": "TBT_caiHsHZw"
      },
      "outputs": [],
      "source": [
        "# Check if the variable y is less than 5. If true, assign \"Smaller\" to the result.\n",
        "y = 3\n",
        "result = None\n",
        "\n",
        "# Testing\n",
        "correct_value = \"Smaller\"\n",
        "assert result == correct_value, f\"The value should be {correct_value}, but got {result}\"\n",
        "print('Your answer is correct')"
      ]
    },
    {
      "cell_type": "code",
      "execution_count": null,
      "metadata": {
        "id": "4IrN1gR0sIPt"
      },
      "outputs": [],
      "source": [
        "# Check if the variable num is even. If true, assign \"Even\" to the result. Otherwise, assign \"Odd\".\n",
        "num = 4\n",
        "result = None\n",
        "\n",
        "# Testing\n",
        "correct_value = \"Even\"\n",
        "assert result == correct_value, f\"The value should be {correct_value}, but got {result}\"\n",
        "print('Your answer is correct')"
      ]
    },
    {
      "cell_type": "code",
      "execution_count": null,
      "metadata": {
        "id": "2_wNmGwAsJM9"
      },
      "outputs": [],
      "source": [
        "# Check if the variable age is 18 or older. If true, assign \"Adult\" to the result. Otherwise, assign \"Minor\".\n",
        "age = 17\n",
        "result = None\n",
        "\n",
        "# Testing\n",
        "correct_value = \"Minor\"\n",
        "assert result == correct_value, f\"The value should be {correct_value}, but got {result}\"\n",
        "print('Your answer is correct')"
      ]
    },
    {
      "cell_type": "code",
      "execution_count": null,
      "metadata": {
        "id": "qBmukU8_sKFQ"
      },
      "outputs": [],
      "source": [
        "# Check if the score is greater than 90. If true, assign \"A\" to grade.\n",
        "# If the score is greater than 80, assign \"B\". Otherwise, assign \"C\".\n",
        "score = 85\n",
        "grade = None\n",
        "\n",
        "# Testing\n",
        "correct_value = \"B\"\n",
        "assert grade == correct_value, f\"The value should be {correct_value}, but got {grade}\"\n",
        "print('Your answer is correct')"
      ]
    },
    {
      "cell_type": "code",
      "execution_count": null,
      "metadata": {
        "id": "bUsGEvg8sLUO"
      },
      "outputs": [],
      "source": [
        "# Check if the temperature is above 30. If true, assign \"Hot\" to the result.\n",
        "# If the temperature is above 20, assign \"Warm\". Otherwise, assign \"Cold\".\n",
        "temperature = 25\n",
        "result = None\n",
        "\n",
        "# Testing\n",
        "correct_value = \"Warm\"\n",
        "assert result == correct_value, f\"The value should be {correct_value}, but got {result}\"\n",
        "print('Your answer is correct')"
      ]
    },
    {
      "cell_type": "code",
      "execution_count": null,
      "metadata": {
        "id": "5OjReqg4sMOW"
      },
      "outputs": [],
      "source": [
        "# Check if the value of n is 1. If true, assign \"One\" to the result.\n",
        "# If n is 2, assign \"Two\". If n is 3, assign \"Three\". Otherwise, assign \"Other\".\n",
        "n = 3\n",
        "result = None\n",
        "\n",
        "# Testing\n",
        "correct_value = \"Three\"\n",
        "assert result == correct_value, f\"The value should be {correct_value}, but got {result}\"\n",
        "print('Your answer is correct')"
      ]
    },
    {
      "cell_type": "code",
      "execution_count": null,
      "metadata": {
        "id": "4eVKmlX4sPDy"
      },
      "outputs": [],
      "source": [
        "# Check if the time is less than 12. If true, assign \"Morning\" to the result.\n",
        "# If the time is less than 18, assign \"Afternoon\". Otherwise, assign \"Evening\".\n",
        "time = 19\n",
        "result = None\n",
        "\n",
        "# Testing\n",
        "correct_value = \"Evening\"\n",
        "assert result == correct_value, f\"The value should be {correct_value}, but got {result}\"\n",
        "print('Your answer is correct')"
      ]
    },
    {
      "cell_type": "code",
      "execution_count": null,
      "metadata": {
        "id": "LOLHuY11sPEy"
      },
      "outputs": [],
      "source": [
        "# Check if the boolean is_sunny is True. If true, assign \"Go outside\" to the action.\n",
        "# Otherwise, assign \"Stay inside\".\n",
        "is_sunny = True\n",
        "action = None\n",
        "\n",
        "# Testing\n",
        "correct_value = \"Go outside\"\n",
        "assert action == correct_value, f\"The value should be {correct_value}, but got {action}\"\n",
        "print('Your answer is correct')"
      ]
    },
    {
      "cell_type": "code",
      "execution_count": null,
      "metadata": {
        "id": "EgJAaV5_sQyk"
      },
      "outputs": [],
      "source": [
        "# Check if the boolean is_raining is True. If true, assign \"Take an umbrella\" to the action.\n",
        "# Otherwise, assign \"No need for an umbrella\".\n",
        "is_raining = False\n",
        "action = None\n",
        "\n",
        "# Testing\n",
        "correct_value = \"No need for an umbrella\"\n",
        "assert action == correct_value, f\"The value should be {correct_value}, but got {action}\"\n",
        "print('Your answer is correct')"
      ]
    },
    {
      "cell_type": "markdown",
      "metadata": {
        "id": "q_sUAwaOsX-F"
      },
      "source": [
        "### Loops\n",
        "\n",
        "For loops in Python are powerful tools for iterating over sequences, enabling you to efficiently process items in lists, ranges, and other iterable objects with concise and readable code."
      ]
    },
    {
      "cell_type": "code",
      "execution_count": null,
      "metadata": {
        "id": "zRbxwyaHsZwv"
      },
      "outputs": [],
      "source": [
        "# Calculate the sum of the numbers from 1 to 10 (inclusive) using a `for` loop with `range()`.\n",
        "total_sum = 0\n",
        "\n",
        "# Testing\n",
        "correct_value = 55\n",
        "assert total_sum == correct_value, f\"The sum should be {correct_value}, but got {total_sum}\"\n",
        "print('Your answer is correct')"
      ]
    },
    {
      "cell_type": "code",
      "execution_count": null,
      "metadata": {
        "id": "9oDPLWOXtn-I"
      },
      "outputs": [],
      "source": [
        "# Print the squares of the numbers from 1 to 5 (inclusive) using a `for` loop with `range()`.\n",
        "\n",
        "# Testing\n",
        "expected_output = [1, 4, 9, 16, 25]\n",
        "output = []\n",
        "for i in range(1, 6):\n",
        "    output.append(i ** 2)\n",
        "\n",
        "assert output == expected_output, f\"The output should be {expected_output}, but got {output}\"\n",
        "print('Your answer is correct')"
      ]
    },
    {
      "cell_type": "code",
      "execution_count": null,
      "metadata": {
        "id": "wva5P36Nt9a6"
      },
      "outputs": [],
      "source": [
        "# Create a string `countdown` that contains numbers from 10 to 1 (inclusive) separated by spaces.\n",
        "countdown = \"\"\n",
        "\n",
        "# Testing\n",
        "correct_value = \"10 9 8 7 6 5 4 3 2 1 \"\n",
        "assert countdown == correct_value, f\"The countdown should be {correct_value}, but got {countdown}\"\n",
        "print('Your answer is correct')\n"
      ]
    },
    {
      "cell_type": "code",
      "execution_count": null,
      "metadata": {
        "id": "aIdGRc2pt91F"
      },
      "outputs": [],
      "source": [
        "# Find the product of all numbers from 1 to 5 (inclusive) using a `for` loop with `range()`.\n",
        "product = 1\n",
        "\n",
        "\n",
        "# Testing\n",
        "correct_value = 120\n",
        "assert product == correct_value, f\"The product should be {correct_value}, but got {product}\"\n",
        "print('Your answer is correct')"
      ]
    },
    {
      "cell_type": "code",
      "execution_count": null,
      "metadata": {
        "id": "RLaNQiIcuKFe"
      },
      "outputs": [],
      "source": [
        "# Create a string `even_numbers` that contains all even numbers from 2 to 10 (inclusive) separated by commas.\n",
        "even_numbers = \"\"\n",
        "\n",
        "# Testing\n",
        "correct_value = \"2, 4, 6, 8, 10, \"\n",
        "assert even_numbers == correct_value, f\"The even numbers should be {correct_value}, but got {even_numbers}\"\n",
        "print('Your answer is correct')"
      ]
    },
    {
      "cell_type": "code",
      "execution_count": null,
      "metadata": {
        "id": "mVcoCi7TuOFm"
      },
      "outputs": [],
      "source": [
        "# Print the multiplication table for the number 4, from 1 to 5 (inclusive).\n",
        "number = 4\n",
        "output = []\n",
        "\n",
        "# Testing\n",
        "expected_output = [4, 8, 12, 16, 20]\n",
        "assert output == expected_output, f\"The countup should be {output}, but got {expected_output}\"\n",
        "print('Your answer is correct')"
      ]
    },
    {
      "cell_type": "code",
      "execution_count": null,
      "metadata": {
        "id": "M0eBF0ByuRcq"
      },
      "outputs": [],
      "source": [
        "# Create a string `countup` that contains numbers from 1 to 5 (inclusive) separated by hyphens.\n",
        "countup = \"\"\n",
        "\n",
        "# Testing\n",
        "correct_value = \"1-2-3-4-5-\"\n",
        "assert countup == correct_value, f\"The countup should be {correct_value}, but got {countup}\"\n",
        "print('Your answer is correct')"
      ]
    },
    {
      "cell_type": "code",
      "execution_count": null,
      "metadata": {
        "id": "CnKsuEH2ukJJ"
      },
      "outputs": [],
      "source": [
        "# Print the sum of squares of numbers from 1 to 4 (inclusive).\n",
        "total_sum = 0\n",
        "\n",
        "# Testing\n",
        "correct_value = 30\n",
        "assert total_sum == correct_value, f\"The sum of squares should be {correct_value}, but got {total_sum}\"\n",
        "print('Your answer is correct')"
      ]
    },
    {
      "cell_type": "markdown",
      "metadata": {
        "id": "BFcUiiVxvJ7y"
      },
      "source": [
        "### While\n",
        "\n",
        "While loops in Python are versatile constructs that repeatedly execute a block of code as long as a specified condition remains true, allowing for dynamic and flexible iterations."
      ]
    },
    {
      "cell_type": "code",
      "execution_count": null,
      "metadata": {
        "id": "n34Lb0N0vLvA"
      },
      "outputs": [],
      "source": [
        "# Print the numbers from 0 to 4 (inclusive) using a `while` loop.\n",
        "i = 0\n",
        "\n",
        "# Testing\n",
        "expected_output = [0, 1, 2, 3, 4]\n",
        "assert output == expected_output, f\"The output should be {expected_output}, but got {output}\"\n",
        "print('Your answer is correct')"
      ]
    },
    {
      "cell_type": "code",
      "execution_count": null,
      "metadata": {
        "id": "m44ewfqKwBhe"
      },
      "outputs": [],
      "source": [
        "# Print the squares of the numbers from 1 to 5 (inclusive) using a `while` loop.\n",
        "i = 1\n",
        "\n",
        "# Testing\n",
        "expected_output = [1, 4, 9, 16, 25]\n",
        "assert output == expected_output, f\"The output should be {expected_output}, but got {output}\"\n",
        "print('Your answer is correct')"
      ]
    },
    {
      "cell_type": "code",
      "execution_count": null,
      "metadata": {
        "id": "jejanxI_v6WM"
      },
      "outputs": [],
      "source": [
        "# Print the numbers from 0 to 4 (inclusive) using a `while` loop.\n",
        "i = 0\n",
        "\n",
        "# Testing\n",
        "expected_output = [0, 1, 2, 3, 4]\n",
        "assert output == expected_output, f\"The output should be {expected_output}, but got {output}\"\n",
        "print('Your answer is correct')"
      ]
    },
    {
      "cell_type": "code",
      "execution_count": null,
      "metadata": {
        "id": "7qUTvJtxwDT5"
      },
      "outputs": [],
      "source": [
        "# Create a string `countdown` that contains numbers from 10 to 1 (inclusive) separated by spaces using a `while` loop.\n",
        "countdown = \"\"\n",
        "i = 10\n",
        "\n",
        "# Testing\n",
        "correct_value = \"10 9 8 7 6 5 4 3 2 1 \"\n",
        "assert countdown == correct_value, f\"The countdown should be {correct_value}, but got {countdown}\"\n",
        "print('Your answer is correct')"
      ]
    },
    {
      "cell_type": "code",
      "execution_count": null,
      "metadata": {
        "id": "0rQqde19wHNT"
      },
      "outputs": [],
      "source": [
        "# Find the product of all numbers from 1 to 5 (inclusive) using a `while` loop.\n",
        "product = 1\n",
        "i = 1\n",
        "\n",
        "# Testing\n",
        "correct_value = 120\n",
        "assert product == correct_value, f\"The product should be {correct_value}, but got {product}\"\n",
        "print('Your answer is correct')"
      ]
    },
    {
      "cell_type": "code",
      "execution_count": null,
      "metadata": {
        "id": "9RS1kWg9wLhE"
      },
      "outputs": [],
      "source": [
        "# Print the sum of squares of numbers from 1 to 4 (inclusive) using a `while` loop.\n",
        "total_sum = 0\n",
        "i = 1\n",
        "\n",
        "# Testing\n",
        "correct_value = 30\n",
        "assert total_sum == correct_value, f\"The sum of squares should be {correct_value}, but got {total_sum}\"\n",
        "print('Your answer is correct')"
      ]
    },
    {
      "cell_type": "markdown",
      "metadata": {
        "id": "dIHzf0N4w3iQ"
      },
      "source": [
        "### Other\n",
        "\n",
        "\n",
        "In the \"Other\" section, we'll explore control flow keywords like break to exit loops prematurely, continue to skip to the next iteration, and pass as a placeholder for code that hasn’t been implemented yet."
      ]
    },
    {
      "cell_type": "code",
      "execution_count": null,
      "metadata": {
        "id": "RRK6Mku8w43o"
      },
      "outputs": [],
      "source": [
        "# Print all numbers from 1 to 10, but skip the number 5 using a `for` loop and `continue`.\n",
        "output = []\n",
        "\n",
        "# Testing\n",
        "expected_output = [1, 2, 3, 4, 6, 7, 8, 9, 10]\n",
        "assert output == expected_output, f\"The output should be {expected_output}, but got {output}\"\n",
        "print('Your answer is correct')"
      ]
    },
    {
      "cell_type": "code",
      "execution_count": null,
      "metadata": {
        "id": "YSerBzoDxgox"
      },
      "outputs": [],
      "source": [
        "# Calculate the sum of all even numbers from 1 to 20 using a `for` loop. Use `continue` to skip odd numbers.\n",
        "total_sum = 0\n",
        "\n",
        "# Testing\n",
        "correct_value = 110\n",
        "assert total_sum == correct_value, f\"The sum should be {correct_value}, but got {total_sum}\"\n",
        "print('Your answer is correct')"
      ]
    },
    {
      "cell_type": "code",
      "execution_count": null,
      "metadata": {
        "id": "DhUjTnkkxnvH"
      },
      "outputs": [],
      "source": [
        "# Calculate the factorial of 5 using a `for` loop. Use `break` if `i` exceeds 5.\n",
        "factorial = 1\n",
        "\n",
        "# Testing\n",
        "correct_value = 120\n",
        "assert factorial == correct_value, f\"The factorial should be {correct_value}, but got {factorial}\"\n",
        "print('Your answer is correct')"
      ]
    },
    {
      "cell_type": "code",
      "execution_count": null,
      "metadata": {
        "id": "c78VefZ_xqj-"
      },
      "outputs": [],
      "source": [
        "# Print all odd numbers from 1 to 10 using a `for` loop. Use `pass` for even numbers.\n",
        "output = []\n",
        "\n",
        "# Testing\n",
        "expected_output = [1, 3, 5, 7, 9]\n",
        "assert output == expected_output, f\"The output should be {expected_output}, but got {output}\"\n",
        "print('Your answer is correct')"
      ]
    },
    {
      "cell_type": "code",
      "execution_count": null,
      "metadata": {
        "id": "nvZxaroVxwL5"
      },
      "outputs": [],
      "source": [
        "# Print numbers from 1 to 20, but use `continue` to skip numbers that are divisible by 4.\n",
        "output = []\n",
        "\n",
        "# Testing\n",
        "expected_output = [1, 2, 3, 5, 6, 7, 9, 10, 11, 13, 14, 15, 17, 18, 19]\n",
        "assert output == expected_output, f\"The output should be {expected_output}, but got {output}\"\n",
        "print('Your answer is correct')"
      ]
    },
    {
      "cell_type": "code",
      "execution_count": null,
      "metadata": {
        "id": "JE9kJThrx4i9"
      },
      "outputs": [],
      "source": [
        "# Print numbers from 1 to 15, but use `break` to stop the loop when a number is greater than 10.\n",
        "output = []\n",
        "\n",
        "# Testing\n",
        "expected_output = [1, 2, 3, 4, 5, 6, 7, 8, 9, 10, 11]\n",
        "assert output == expected_output, f\"The output should be {expected_output}, but got {output}\"\n",
        "print('Your answer is correct')"
      ]
    },
    {
      "cell_type": "code",
      "execution_count": null,
      "metadata": {
        "id": "eFiNlQidx--Q"
      },
      "outputs": [],
      "source": [
        "# Print numbers from 1 to 10, but use `pass` for numbers that are multiples of 3.\n",
        "output = []\n",
        "\n",
        "# Testing\n",
        "expected_output = [1, 2, 4, 5, 7, 8, 10]\n",
        "assert output == expected_output, f\"The output should be {expected_output}, but got {output}\"\n",
        "print('Your answer is correct')"
      ]
    },
    {
      "cell_type": "code",
      "execution_count": null,
      "metadata": {
        "id": "SyBa9FIVyIiO"
      },
      "outputs": [],
      "source": [
        "# Print all numbers from 10 to 1 in reverse order using a `for` loop, but stop if you reach the number 3.\n",
        "output = []\n",
        "\n",
        "# Testing\n",
        "expected_output = [10, 9, 8, 7, 6, 5, 4, 3]\n",
        "assert output == expected_output, f\"The output should be {expected_output}, but got {output}\"\n",
        "print('Your answer is correct')"
      ]
    },
    {
      "cell_type": "markdown",
      "metadata": {
        "id": "TM5ndHKg6LRk"
      },
      "source": [
        "## Functions\n",
        "\n",
        "Functions in Python allow you to encapsulate reusable blocks of code into named units, making your programs more modular, readable, and easier to maintain."
      ]
    },
    {
      "cell_type": "code",
      "execution_count": null,
      "metadata": {
        "id": "xnxvXlwn6Mda"
      },
      "outputs": [],
      "source": [
        "# Define a function `add_numbers` that takes two parameters and returns their sum\n",
        "def add_numbers():\n",
        "  return None\n",
        "\n",
        "# Testing\n",
        "result = add_numbers(3, 5)\n",
        "correct_value = 8\n",
        "assert result == correct_value, f\"The result should be {correct_value}, but got {result}\"\n",
        "print('Your answer is correct')"
      ]
    },
    {
      "cell_type": "code",
      "execution_count": null,
      "metadata": {
        "id": "8oLPEati6UWi"
      },
      "outputs": [],
      "source": [
        "# Define a function `is_even` that takes an integer and returns True if it is even, False otherwise\n",
        "def is_even():\n",
        "    return None\n",
        "\n",
        "# Testing\n",
        "result = is_even(4)\n",
        "correct_value = True\n",
        "assert result == correct_value, f\"The result should be {correct_value}, but got {result}\"\n",
        "print('Your answer is correct')"
      ]
    },
    {
      "cell_type": "code",
      "execution_count": null,
      "metadata": {
        "id": "hnYtKSwf6VOJ"
      },
      "outputs": [],
      "source": [
        "# Define a function `multiply` that takes two parameters and returns their product\n",
        "def multiply():\n",
        "    return None\n",
        "\n",
        "# Testing\n",
        "result = multiply(6, 7)\n",
        "correct_value = 42\n",
        "assert result == correct_value, f\"The result should be {correct_value}, but got {result}\"\n",
        "print('Your answer is correct')"
      ]
    },
    {
      "cell_type": "code",
      "execution_count": null,
      "metadata": {
        "id": "GWJ8pV-56W3N"
      },
      "outputs": [],
      "source": [
        "# Define a function `greet` that takes a name and returns the greeting \"Hello, {name}!\"\n",
        "def greet():\n",
        "    return None\n",
        "\n",
        "# Testing\n",
        "result = greet(\"Alice\")\n",
        "correct_value = \"Hello, Alice!\"\n",
        "assert result == correct_value, f\"The greeting should be '{correct_value}', but got '{result}'\"\n",
        "print('Your answer is correct')"
      ]
    },
    {
      "cell_type": "code",
      "execution_count": null,
      "metadata": {
        "id": "AWKySkvg6aro"
      },
      "outputs": [],
      "source": [
        "# Define a function `square` that returns the square of a number\n",
        "def square():\n",
        "    return None\n",
        "\n",
        "# Testing\n",
        "result = square(4)\n",
        "correct_value = 16\n",
        "assert result == correct_value, f\"The result should be {correct_value}, but got {result}\"\n",
        "print('Your answer is correct')"
      ]
    },
    {
      "cell_type": "code",
      "execution_count": null,
      "metadata": {
        "id": "FUMkm35b6cc8"
      },
      "outputs": [],
      "source": [
        "# Define a function `reverse_string` that takes a string and returns it reversed\n",
        "def reverse_string():\n",
        "    return None\n",
        "\n",
        "# Testing\n",
        "result = reverse_string(\"hello\")\n",
        "correct_value = \"olleh\"\n",
        "assert result == correct_value, f\"The reversed string should be '{correct_value}', but got '{result}'\"\n",
        "print('Your answer is correct')\n"
      ]
    },
    {
      "cell_type": "code",
      "execution_count": null,
      "metadata": {
        "id": "HmjvZfLG6eKN"
      },
      "outputs": [],
      "source": [
        "# Define a function `find_max` that returns the maximum value from a list of numbers\n",
        "def find_max():\n",
        "    return None\n",
        "\n",
        "# Testing\n",
        "result = find_max([3, 5, 7, 2])\n",
        "correct_value = 7\n",
        "assert result == correct_value, f\"The maximum value should be {correct_value}, but got {result}\"\n",
        "print('Your answer is correct')\n"
      ]
    },
    {
      "cell_type": "code",
      "execution_count": null,
      "metadata": {
        "id": "phdBBIyY6gmW"
      },
      "outputs": [],
      "source": [
        "# Define a function `concatenate` that takes two strings and returns their concatenation\n",
        "def concatenate():\n",
        "    return None\n",
        "\n",
        "# Testing\n",
        "result = concatenate(\"Hello\", \"World\")\n",
        "correct_value = \"HelloWorld\"\n",
        "assert result == correct_value, f\"The concatenated string should be '{correct_value}', but got '{result}'\"\n",
        "print('Your answer is correct')"
      ]
    }
  ],
  "metadata": {
    "colab": {
      "collapsed_sections": [
        "_wWpiU1v-c3g",
        "QaMJh2HXtYZf",
        "t9myAyIkmHK4",
        "GKFmI2G8qBcF",
        "N9DgkLBIqT5x",
        "cxLhj1dLrK1f",
        "fd5QoHBIrXuT",
        "s046Nb2trh8_",
        "oUcBk0xa35vv",
        "xmKQ7GQl4F90",
        "Qomj4VN34iq3",
        "XS0bcyFB4-nf",
        "pUFdzQ575cvn",
        "aFbUQvMksAQw",
        "7fgdf24bsB9T",
        "q_sUAwaOsX-F",
        "BFcUiiVxvJ7y",
        "dIHzf0N4w3iQ",
        "TM5ndHKg6LRk"
      ],
      "provenance": [],
      "toc_visible": true
    },
    "kernelspec": {
      "display_name": "Python 3",
      "name": "python3"
    },
    "language_info": {
      "name": "python"
    }
  },
  "nbformat": 4,
  "nbformat_minor": 0
}
